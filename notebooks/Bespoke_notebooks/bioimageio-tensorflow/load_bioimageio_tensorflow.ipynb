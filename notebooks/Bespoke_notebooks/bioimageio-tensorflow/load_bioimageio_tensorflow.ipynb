{
  "cells": [
    {
      "cell_type": "markdown",
      "id": "e88267f9-7b72-4fc0-99c1-b4312bde5be3",
      "metadata": {
        "id": "e88267f9-7b72-4fc0-99c1-b4312bde5be3"
      },
      "source": [
        "# BioImage Model Zoo Example notebook\n",
        "\n",
        "This notebook provides examples of how to load pretrained deep learning models from [BioImage Model Zoo](https://bioimage.io) and use them to process new images."
      ]
    },
    {
      "cell_type": "markdown",
      "id": "a02b0904",
      "metadata": {
        "id": "a02b0904"
      },
      "source": [
        "## **1. Install key dependencies**\n",
        "---\n",
        "<font size = 4>\n"
      ]
    },
    {
      "cell_type": "markdown",
      "id": "61c446cf",
      "metadata": {
        "id": "61c446cf"
      },
      "source": [
        "### **1.0. Install required dependencies**"
      ]
    },
    {
      "cell_type": "code",
      "execution_count": 1,
      "id": "b7bfc0d0",
      "metadata": {
        "colab": {
          "base_uri": "https://localhost:8080/"
        },
        "id": "b7bfc0d0",
        "outputId": "2916501c-dca4-4c9c-832a-4edb056e49f9"
      },
      "outputs": [
        {
          "name": "stdout",
          "output_type": "stream",
          "text": [
            "Requirement already satisfied: bioimageio.core==0.5.11 in /usr/local/lib/python3.10/dist-packages (0.5.11)\n",
            "Requirement already satisfied: bioimageio.spec==0.4.9.* in /usr/local/lib/python3.10/dist-packages (from bioimageio.core==0.5.11) (0.4.9.post5)\n",
            "Requirement already satisfied: imageio>=2.5 in /usr/local/lib/python3.10/dist-packages (from bioimageio.core==0.5.11) (2.31.2)\n",
            "Requirement already satisfied: numpy in /usr/local/lib/python3.10/dist-packages (from bioimageio.core==0.5.11) (1.23.5)\n",
            "Requirement already satisfied: ruamel.yaml in /usr/local/lib/python3.10/dist-packages (from bioimageio.core==0.5.11) (0.18.6)\n",
            "Requirement already satisfied: tqdm in /usr/local/lib/python3.10/dist-packages (from bioimageio.core==0.5.11) (4.66.1)\n",
            "Requirement already satisfied: xarray in /usr/local/lib/python3.10/dist-packages (from bioimageio.core==0.5.11) (2023.7.0)\n",
            "Requirement already satisfied: tifffile in /usr/local/lib/python3.10/dist-packages (from bioimageio.core==0.5.11) (2024.1.30)\n",
            "Requirement already satisfied: marshmallow-jsonschema in /usr/local/lib/python3.10/dist-packages (from bioimageio.spec==0.4.9.*->bioimageio.core==0.5.11) (0.13.0)\n",
            "Requirement already satisfied: marshmallow-union in /usr/local/lib/python3.10/dist-packages (from bioimageio.spec==0.4.9.*->bioimageio.core==0.5.11) (0.1.15.post1)\n",
            "Requirement already satisfied: marshmallow<4.0,>=3.6.0 in /usr/local/lib/python3.10/dist-packages (from bioimageio.spec==0.4.9.*->bioimageio.core==0.5.11) (3.20.2)\n",
            "Requirement already satisfied: packaging>=17.0 in /usr/local/lib/python3.10/dist-packages (from bioimageio.spec==0.4.9.*->bioimageio.core==0.5.11) (23.2)\n",
            "Requirement already satisfied: typer in /usr/local/lib/python3.10/dist-packages (from bioimageio.spec==0.4.9.*->bioimageio.core==0.5.11) (0.9.0)\n",
            "Requirement already satisfied: typing-extensions in /usr/local/lib/python3.10/dist-packages (from bioimageio.spec==0.4.9.*->bioimageio.core==0.5.11) (4.9.0)\n",
            "Requirement already satisfied: requests in /usr/local/lib/python3.10/dist-packages (from bioimageio.spec==0.4.9.*->bioimageio.core==0.5.11) (2.31.0)\n",
            "Requirement already satisfied: pillow>=8.3.2 in /usr/local/lib/python3.10/dist-packages (from imageio>=2.5->bioimageio.core==0.5.11) (9.4.0)\n",
            "Requirement already satisfied: ruamel.yaml.clib>=0.2.7 in /usr/local/lib/python3.10/dist-packages (from ruamel.yaml->bioimageio.core==0.5.11) (0.2.8)\n",
            "Requirement already satisfied: pandas>=1.4 in /usr/local/lib/python3.10/dist-packages (from xarray->bioimageio.core==0.5.11) (1.5.3)\n",
            "Requirement already satisfied: python-dateutil>=2.8.1 in /usr/local/lib/python3.10/dist-packages (from pandas>=1.4->xarray->bioimageio.core==0.5.11) (2.8.2)\n",
            "Requirement already satisfied: pytz>=2020.1 in /usr/local/lib/python3.10/dist-packages (from pandas>=1.4->xarray->bioimageio.core==0.5.11) (2023.4)\n",
            "Requirement already satisfied: charset-normalizer<4,>=2 in /usr/local/lib/python3.10/dist-packages (from requests->bioimageio.spec==0.4.9.*->bioimageio.core==0.5.11) (3.3.2)\n",
            "Requirement already satisfied: idna<4,>=2.5 in /usr/local/lib/python3.10/dist-packages (from requests->bioimageio.spec==0.4.9.*->bioimageio.core==0.5.11) (3.6)\n",
            "Requirement already satisfied: urllib3<3,>=1.21.1 in /usr/local/lib/python3.10/dist-packages (from requests->bioimageio.spec==0.4.9.*->bioimageio.core==0.5.11) (2.0.7)\n",
            "Requirement already satisfied: certifi>=2017.4.17 in /usr/local/lib/python3.10/dist-packages (from requests->bioimageio.spec==0.4.9.*->bioimageio.core==0.5.11) (2024.2.2)\n",
            "Requirement already satisfied: click<9.0.0,>=7.1.1 in /usr/local/lib/python3.10/dist-packages (from typer->bioimageio.spec==0.4.9.*->bioimageio.core==0.5.11) (8.1.7)\n",
            "Requirement already satisfied: six>=1.5 in /usr/local/lib/python3.10/dist-packages (from python-dateutil>=2.8.1->pandas>=1.4->xarray->bioimageio.core==0.5.11) (1.16.0)\n",
            "Requirement already satisfied: matplotlib==3.5.3 in /usr/local/lib/python3.10/dist-packages (3.5.3)\n",
            "Requirement already satisfied: cycler>=0.10 in /usr/local/lib/python3.10/dist-packages (from matplotlib==3.5.3) (0.12.1)\n",
            "Requirement already satisfied: fonttools>=4.22.0 in /usr/local/lib/python3.10/dist-packages (from matplotlib==3.5.3) (4.48.1)\n",
            "Requirement already satisfied: kiwisolver>=1.0.1 in /usr/local/lib/python3.10/dist-packages (from matplotlib==3.5.3) (1.4.5)\n",
            "Requirement already satisfied: numpy>=1.17 in /usr/local/lib/python3.10/dist-packages (from matplotlib==3.5.3) (1.23.5)\n",
            "Requirement already satisfied: packaging>=20.0 in /usr/local/lib/python3.10/dist-packages (from matplotlib==3.5.3) (23.2)\n",
            "Requirement already satisfied: pillow>=6.2.0 in /usr/local/lib/python3.10/dist-packages (from matplotlib==3.5.3) (9.4.0)\n",
            "Requirement already satisfied: pyparsing>=2.2.1 in /usr/local/lib/python3.10/dist-packages (from matplotlib==3.5.3) (3.1.1)\n",
            "Requirement already satisfied: python-dateutil>=2.7 in /usr/local/lib/python3.10/dist-packages (from matplotlib==3.5.3) (2.8.2)\n",
            "Requirement already satisfied: six>=1.5 in /usr/local/lib/python3.10/dist-packages (from python-dateutil>=2.7->matplotlib==3.5.3) (1.16.0)\n",
            "Requirement already satisfied: imageio==2.31.2 in /usr/local/lib/python3.10/dist-packages (2.31.2)\n",
            "Requirement already satisfied: numpy in /usr/local/lib/python3.10/dist-packages (from imageio==2.31.2) (1.23.5)\n",
            "Requirement already satisfied: pillow>=8.3.2 in /usr/local/lib/python3.10/dist-packages (from imageio==2.31.2) (9.4.0)\n",
            "Requirement already satisfied: numpy==1.23.5 in /usr/local/lib/python3.10/dist-packages (1.23.5)\n",
            "Requirement already satisfied: tensorflow==2.15 in /usr/local/lib/python3.10/dist-packages (2.15.0)\n",
            "Requirement already satisfied: absl-py>=1.0.0 in /usr/local/lib/python3.10/dist-packages (from tensorflow==2.15) (1.4.0)\n",
            "Requirement already satisfied: astunparse>=1.6.0 in /usr/local/lib/python3.10/dist-packages (from tensorflow==2.15) (1.6.3)\n",
            "Requirement already satisfied: flatbuffers>=23.5.26 in /usr/local/lib/python3.10/dist-packages (from tensorflow==2.15) (23.5.26)\n",
            "Requirement already satisfied: gast!=0.5.0,!=0.5.1,!=0.5.2,>=0.2.1 in /usr/local/lib/python3.10/dist-packages (from tensorflow==2.15) (0.5.4)\n",
            "Requirement already satisfied: google-pasta>=0.1.1 in /usr/local/lib/python3.10/dist-packages (from tensorflow==2.15) (0.2.0)\n",
            "Requirement already satisfied: h5py>=2.9.0 in /usr/local/lib/python3.10/dist-packages (from tensorflow==2.15) (3.9.0)\n",
            "Requirement already satisfied: libclang>=13.0.0 in /usr/local/lib/python3.10/dist-packages (from tensorflow==2.15) (16.0.6)\n",
            "Requirement already satisfied: ml-dtypes~=0.2.0 in /usr/local/lib/python3.10/dist-packages (from tensorflow==2.15) (0.2.0)\n",
            "Requirement already satisfied: numpy<2.0.0,>=1.23.5 in /usr/local/lib/python3.10/dist-packages (from tensorflow==2.15) (1.23.5)\n",
            "Requirement already satisfied: opt-einsum>=2.3.2 in /usr/local/lib/python3.10/dist-packages (from tensorflow==2.15) (3.3.0)\n",
            "Requirement already satisfied: packaging in /usr/local/lib/python3.10/dist-packages (from tensorflow==2.15) (23.2)\n",
            "Requirement already satisfied: protobuf!=4.21.0,!=4.21.1,!=4.21.2,!=4.21.3,!=4.21.4,!=4.21.5,<5.0.0dev,>=3.20.3 in /usr/local/lib/python3.10/dist-packages (from tensorflow==2.15) (3.20.3)\n",
            "Requirement already satisfied: setuptools in /usr/local/lib/python3.10/dist-packages (from tensorflow==2.15) (67.7.2)\n",
            "Requirement already satisfied: six>=1.12.0 in /usr/local/lib/python3.10/dist-packages (from tensorflow==2.15) (1.16.0)\n",
            "Requirement already satisfied: termcolor>=1.1.0 in /usr/local/lib/python3.10/dist-packages (from tensorflow==2.15) (2.4.0)\n",
            "Requirement already satisfied: typing-extensions>=3.6.6 in /usr/local/lib/python3.10/dist-packages (from tensorflow==2.15) (4.9.0)\n",
            "Requirement already satisfied: wrapt<1.15,>=1.11.0 in /usr/local/lib/python3.10/dist-packages (from tensorflow==2.15) (1.14.1)\n",
            "Requirement already satisfied: tensorflow-io-gcs-filesystem>=0.23.1 in /usr/local/lib/python3.10/dist-packages (from tensorflow==2.15) (0.36.0)\n",
            "Requirement already satisfied: grpcio<2.0,>=1.24.3 in /usr/local/lib/python3.10/dist-packages (from tensorflow==2.15) (1.60.1)\n",
            "Requirement already satisfied: tensorboard<2.16,>=2.15 in /usr/local/lib/python3.10/dist-packages (from tensorflow==2.15) (2.15.1)\n",
            "Requirement already satisfied: tensorflow-estimator<2.16,>=2.15.0 in /usr/local/lib/python3.10/dist-packages (from tensorflow==2.15) (2.15.0)\n",
            "Requirement already satisfied: keras<2.16,>=2.15.0 in /usr/local/lib/python3.10/dist-packages (from tensorflow==2.15) (2.15.0)\n",
            "Requirement already satisfied: wheel<1.0,>=0.23.0 in /usr/local/lib/python3.10/dist-packages (from astunparse>=1.6.0->tensorflow==2.15) (0.42.0)\n",
            "Requirement already satisfied: google-auth<3,>=1.6.3 in /usr/local/lib/python3.10/dist-packages (from tensorboard<2.16,>=2.15->tensorflow==2.15) (2.27.0)\n",
            "Requirement already satisfied: google-auth-oauthlib<2,>=0.5 in /usr/local/lib/python3.10/dist-packages (from tensorboard<2.16,>=2.15->tensorflow==2.15) (1.2.0)\n",
            "Requirement already satisfied: markdown>=2.6.8 in /usr/local/lib/python3.10/dist-packages (from tensorboard<2.16,>=2.15->tensorflow==2.15) (3.5.2)\n",
            "Requirement already satisfied: requests<3,>=2.21.0 in /usr/local/lib/python3.10/dist-packages (from tensorboard<2.16,>=2.15->tensorflow==2.15) (2.31.0)\n",
            "Requirement already satisfied: tensorboard-data-server<0.8.0,>=0.7.0 in /usr/local/lib/python3.10/dist-packages (from tensorboard<2.16,>=2.15->tensorflow==2.15) (0.7.2)\n",
            "Requirement already satisfied: werkzeug>=1.0.1 in /usr/local/lib/python3.10/dist-packages (from tensorboard<2.16,>=2.15->tensorflow==2.15) (3.0.1)\n",
            "Requirement already satisfied: cachetools<6.0,>=2.0.0 in /usr/local/lib/python3.10/dist-packages (from google-auth<3,>=1.6.3->tensorboard<2.16,>=2.15->tensorflow==2.15) (5.3.2)\n",
            "Requirement already satisfied: pyasn1-modules>=0.2.1 in /usr/local/lib/python3.10/dist-packages (from google-auth<3,>=1.6.3->tensorboard<2.16,>=2.15->tensorflow==2.15) (0.3.0)\n",
            "Requirement already satisfied: rsa<5,>=3.1.4 in /usr/local/lib/python3.10/dist-packages (from google-auth<3,>=1.6.3->tensorboard<2.16,>=2.15->tensorflow==2.15) (4.9)\n",
            "Requirement already satisfied: requests-oauthlib>=0.7.0 in /usr/local/lib/python3.10/dist-packages (from google-auth-oauthlib<2,>=0.5->tensorboard<2.16,>=2.15->tensorflow==2.15) (1.3.1)\n",
            "Requirement already satisfied: charset-normalizer<4,>=2 in /usr/local/lib/python3.10/dist-packages (from requests<3,>=2.21.0->tensorboard<2.16,>=2.15->tensorflow==2.15) (3.3.2)\n",
            "Requirement already satisfied: idna<4,>=2.5 in /usr/local/lib/python3.10/dist-packages (from requests<3,>=2.21.0->tensorboard<2.16,>=2.15->tensorflow==2.15) (3.6)\n",
            "Requirement already satisfied: urllib3<3,>=1.21.1 in /usr/local/lib/python3.10/dist-packages (from requests<3,>=2.21.0->tensorboard<2.16,>=2.15->tensorflow==2.15) (2.0.7)\n",
            "Requirement already satisfied: certifi>=2017.4.17 in /usr/local/lib/python3.10/dist-packages (from requests<3,>=2.21.0->tensorboard<2.16,>=2.15->tensorflow==2.15) (2024.2.2)\n",
            "Requirement already satisfied: MarkupSafe>=2.1.1 in /usr/local/lib/python3.10/dist-packages (from werkzeug>=1.0.1->tensorboard<2.16,>=2.15->tensorflow==2.15) (2.1.5)\n",
            "Requirement already satisfied: pyasn1<0.6.0,>=0.4.6 in /usr/local/lib/python3.10/dist-packages (from pyasn1-modules>=0.2.1->google-auth<3,>=1.6.3->tensorboard<2.16,>=2.15->tensorflow==2.15) (0.5.1)\n",
            "Requirement already satisfied: oauthlib>=3.0.0 in /usr/local/lib/python3.10/dist-packages (from requests-oauthlib>=0.7.0->google-auth-oauthlib<2,>=0.5->tensorboard<2.16,>=2.15->tensorflow==2.15) (3.2.2)\n"
          ]
        }
      ],
      "source": [
        "!pip install bioimageio.core==0.5.11\n",
        "!pip install matplotlib==3.5.3\n",
        "!pip install imageio==2.31.2\n",
        "!pip install numpy==1.23.5\n",
        "!pip install tensorflow==2.15"
      ]
    },
    {
      "cell_type": "markdown",
      "id": "306d47df-e0d3-4856-a534-36aa032a2c83",
      "metadata": {
        "id": "306d47df-e0d3-4856-a534-36aa032a2c83",
        "tags": []
      },
      "source": [
        "### **1.1. Load BioImageIO dependencies**"
      ]
    },
    {
      "cell_type": "code",
      "execution_count": 35,
      "id": "f7b1ed61-e608-4403-8c1c-f0398bc31a26",
      "metadata": {
        "id": "f7b1ed61-e608-4403-8c1c-f0398bc31a26",
        "tags": []
      },
      "outputs": [],
      "source": [
        "# BioImage Model Zoo\n",
        "import os\n",
        "from datetime import datetime\n",
        "\n",
        "# If you'd rather read the warning messages, please comment the follwing two lines.\n",
        "import warnings\n",
        "warnings.filterwarnings(\"ignore\")\n",
        "\n",
        "import matplotlib.pyplot as plt\n",
        "from imageio import imread\n",
        "import xarray as xr\n",
        "import numpy as np\n",
        "from bioimageio.core.resource_tests import test_model\n",
        "from bioimageio.core import load_resource_description\n",
        "from bioimageio.core import create_prediction_pipeline\n",
        "from bioimageio.core.prediction import predict_image, predict_images\n",
        "from bioimageio.core.resource_io.utils import resolve_source\n",
        "from bioimageio.core.build_spec import build_model\n",
        "import hashlib\n",
        "\n",
        "import json\n",
        "from pathlib import Path\n",
        "import pooch\n",
        "from ruamel.yaml import YAML\n",
        " \n",
        "yaml = YAML(typ=\"safe\")\n",
        " \n",
        "COLLECTION_URL = \"https://raw.githubusercontent.com/bioimage-io/collection-bioimage-io/gh-pages/collection.json\"\n",
        " \n",
        "collection_path = Path(pooch.retrieve(COLLECTION_URL, known_hash=None))\n",
        " \n",
        "with collection_path.open() as f:\n",
        "\n",
        "    collection = json.load(f)\n",
        "\n",
        "model_urls = [entry[\"rdf_source\"] for entry in collection[\"collection\"] if entry[\"type\"] == \"model\"]\n",
        " \n",
        "model_rdfs = [yaml.load(Path(pooch.retrieve(mu, known_hash=None))) for mu in model_urls]\n",
        " \n",
        "tensorflow_models = [rdf for rdf in model_rdfs if \"tensorflow_saved_model_bundle\" in rdf[\"weights\"] or \"keras_hdf5\" in rdf[\"weights\"]]"
      ]
    },
    {
      "cell_type": "markdown",
      "id": "235264a0",
      "metadata": {
        "id": "235264a0",
        "tags": []
      },
      "source": [
        "## **2. Inspect a model from the BioImage Model Zoo**\n",
        "\n",
        "Here we will guide you through the basic functionalities of the BioImageIO Python packaget to interact with the content in the BioImage Model Zoo. General parameters to modify along the following cell."
      ]
    },
    {
      "cell_type": "code",
      "execution_count": null,
      "id": "1ecfa958",
      "metadata": {},
      "outputs": [],
      "source": [
        "# nickname_list = []\n",
        "print('List of models for TensorFlow:\\n')\n",
        "\n",
        "for model in tensorflow_models:\n",
        "    # nickname_list.append(model['config']['bioimageio']['nickname'])\n",
        "    print(f\"{model['name']}\\n - {model['config']['bioimageio']['nickname']}\\n - {model['config']['bioimageio']['doi']}\")"
      ]
    },
    {
      "cell_type": "markdown",
      "id": "f5162057-f0d1-419a-a127-2d6cabc5061b",
      "metadata": {
        "id": "f5162057-f0d1-419a-a127-2d6cabc5061b",
        "tags": []
      },
      "source": [
        "### **2.1. Load the resource description specifications of the model**\n",
        "\n",
        "To load the resource there are different ways of doing it, you just need to provide **ONE** of the options bellow: \n",
        "\n",
        "<font size = 2>**`BMZ_MODEL_ID`**: Unique identifier of the model to load in the BioImage Model Zoo, e.g., `placid-llama`. These identifiers are given on each model card in the zoo.\n",
        "\n",
        "OR\n",
        "\n",
        "<font size = 2>**`BMZ_MODEL_DOI`**: Model DOIs can also be used to load the models.\n",
        "\n",
        "OR\n",
        "\n",
        "<font size = 2>**`BMZ_MODEL_URL`**: URL to the main Zenodo repository as well as to the `rdf.yaml` file containing the resource description specifications can be used to load models as well."
      ]
    },
    {
      "cell_type": "code",
      "execution_count": 4,
      "id": "6745eebe-c01e-41ff-918d-41693a5d1526",
      "metadata": {
        "colab": {
          "base_uri": "https://localhost:8080/"
        },
        "id": "6745eebe-c01e-41ff-918d-41693a5d1526",
        "outputId": "3d3e4e41-0d6a-42d2-d782-844092e0abd8",
        "tags": []
      },
      "outputs": [
        {
          "name": "stderr",
          "output_type": "stream",
          "text": [
            "rdf.yaml: 4.53kiB [00:00, 5.05MiB/s]                  \n",
            "training_evaluation.csv: 7.20kiB [00:00, 3.67MiB/s]\n",
            "Contours2InstanceSegmentation.ijm: 100%|██████████| 2.32k/2.32k [00:00<00:00, 1.95MiB/s]\n",
            "per_sample_scale_range.ijm: 100%|██████████| 4.36k/4.36k [00:00<00:00, 3.25MiB/s]\n",
            "cover_1.png: 100%|██████████| 23.1k/23.1k [00:00<00:00, 212kiB/s]\n",
            "cover.png: 100%|██████████| 66.6k/66.6k [00:00<00:00, 306kiB/s]\n",
            "README.md: 100%|██████████| 205/205 [00:00<00:00, 209kiB/s]\n",
            "sample_input_0.tif: 100%|██████████| 262k/262k [00:00<00:00, 605kiB/s]\n",
            "sample_output_0.tif: 100%|██████████| 3.15M/3.15M [00:00<00:00, 3.57MiB/s]\n",
            "test_input.npy: 100%|██████████| 262k/262k [00:00<00:00, 606kiB/s]\n",
            "test_output.npy: 100%|██████████| 3.15M/3.15M [00:00<00:00, 3.59MiB/s]\n",
            "keras_weights.hdf5: 100%|██████████| 30.9M/30.9M [00:02<00:00, 13.5MiB/s]\n",
            "tf_weights.zip: 100%|██████████| 31.3M/31.3M [00:02<00:00, 14.3MiB/s]"
          ]
        },
        {
          "name": "stdout",
          "output_type": "stream",
          "text": [
            "The model 'B. Sutilist bacteria segmentation - Widefield microscopy - 2D UNet' with ID 'placid-llama' has been correctly loaded.\n"
          ]
        },
        {
          "name": "stderr",
          "output_type": "stream",
          "text": [
            "\n"
          ]
        }
      ],
      "source": [
        "BMZ_MODEL_ID = \"placid-llama\" #@param {type:\"string\"}\n",
        "BMZ_MODEL_DOI = \"10.5281/zenodo.7261974\"  #@param {type:\"string\"}\n",
        "BMZ_MODEL_URL = \"https://zenodo.org/records/7261974/files/rdf.yaml\"  #@param {type:\"string\"}\n",
        "\n",
        "# Load the model description\n",
        "# ------------------------------------------------------------------------------\n",
        "\n",
        "if BMZ_MODEL_ID != \"\":\n",
        "    model = load_resource_description(BMZ_MODEL_ID)  # TODO: load from bioimageio id\n",
        "    print(f\"The model '{model.name}' with ID '{BMZ_MODEL_ID}' has been correctly loaded.\")\n",
        "elif BMZ_MODEL_DOI != \"\":\n",
        "    model = load_resource_description(BMZ_MODEL_DOI)  # TODO: load from bioimageio id\n",
        "    print(f\"The model '{model.name}' with DOI '{BMZ_MODEL_DOI}' has been correctly loaded.\")\n",
        "elif BMZ_MODEL_URL != \"\":\n",
        "    model = load_resource_description(BMZ_MODEL_URL)  # TODO: load from bioimageio id\n",
        "    print(f\"The model '{model.name}' with URL '{BMZ_MODEL_URL}' has been correctly loaded.\")\n",
        "else:\n",
        "    print('Please specify a model ID, DOI or URL')"
      ]
    },
    {
      "cell_type": "markdown",
      "id": "07efa2a6-dc1e-46f6-989b-83d95bfaebbf",
      "metadata": {
        "id": "07efa2a6-dc1e-46f6-989b-83d95bfaebbf",
        "tags": []
      },
      "source": [
        "### **2.2. Discover the different components and features of the model**"
      ]
    },
    {
      "cell_type": "code",
      "execution_count": 7,
      "id": "12a35e70",
      "metadata": {
        "cellView": "form",
        "colab": {
          "base_uri": "https://localhost:8080/",
          "height": 709
        },
        "id": "12a35e70",
        "outputId": "c558c5c0-77a1-4f4b-a78a-70cf52177f71",
        "tags": []
      },
      "outputs": [
        {
          "name": "stdout",
          "output_type": "stream",
          "text": [
            "The model 'B. Sutilist bacteria segmentation - Widefield microscopy - 2D UNet' had the following properties and metadata\n",
            "\n",
            " Description This trained 2D U-Net model segments the contour, foreground and background of Bacillus Subtilis bacteria imaged with Widefield microscopy images. To obtain a unique label for each individual bacteria detected in the image one could run further watershed segmentation using the label 1 as the seed.\n",
            "\n",
            " The authors of the model are [Author(name='Estibaliz Gómez de Mariscal', affiliation='Instituto Gulbenkian de Ciência', email=<marshmallow.missing>, github_user=<marshmallow.missing>, orcid=<marshmallow.missing>)]\n",
            " and it is maintained by: [Maintainer(name='Estibaliz Gómez de Mariscal', affiliation=<marshmallow.missing>, email=<marshmallow.missing>, github_user='esgomezm', orcid=<marshmallow.missing>)]\n",
            " License: MIT\n",
            "\n",
            " If you use this model, you are expected to cite [CiteEntry(text='Falk et al. Nature Methods 2019', doi='10.1038/s41592-018-0261-2', url='https://doi.org/10.1038/s41592-018-0261-2'), CiteEntry(text='Ronneberger et al. arXiv in 2015', doi='10.1007/978-3-319-24574-4_28', url='https://doi.org/10.1007/978-3-319-24574-4_28'), CiteEntry(text='Lucas von Chamier et al. biorXiv 2020', doi='10.1101/2020.03.20.000133', url='https://doi.org/10.1101/2020.03.20.000133'), CiteEntry(text='Christoph Spahn et al. Communications Biology 2022', doi='10.1038/s42003-022-03634-z', url='https://doi.org/10.1038/s42003-022-03634-z')]\n",
            "\n",
            " Further documentation can be found here: [CiteEntry(text='Falk et al. Nature Methods 2019', doi='10.1038/s41592-018-0261-2', url='https://doi.org/10.1038/s41592-018-0261-2'), CiteEntry(text='Ronneberger et al. arXiv in 2015', doi='10.1007/978-3-319-24574-4_28', url='https://doi.org/10.1007/978-3-319-24574-4_28'), CiteEntry(text='Lucas von Chamier et al. biorXiv 2020', doi='10.1101/2020.03.20.000133', url='https://doi.org/10.1101/2020.03.20.000133'), CiteEntry(text='Christoph Spahn et al. Communications Biology 2022', doi='10.1038/s42003-022-03634-z', url='https://doi.org/10.1038/s42003-022-03634-z')]\n",
            "\n",
            " GitHub repository: <marshmallow.missing>\n",
            "\n",
            "Covers of the model 'B. Sutilist bacteria segmentation - Widefield microscopy - 2D UNet'\n"
          ]
        },
        {
          "data": {
            "image/png": "[encoded data removed]",
            "text/plain": [
              "<Figure size 300x300 with 1 Axes>"
            ]
          },
          "metadata": {},
          "output_type": "display_data"
        },
        {
          "data": {
            "image/png": "[encoded data removed]",
            "text/plain": [
              "<Figure size 300x300 with 1 Axes>"
            ]
          },
          "metadata": {},
          "output_type": "display_data"
        }
      ],
      "source": [
        "print(f\"The model '{model.name}' had the following properties and metadata\")\n",
        "print()\n",
        "print(f\" Description {model.description}\")\n",
        "print()\n",
        "print(f\" The authors of the model are {model.authors}\")\n",
        "print(f\" and it is maintained by: {model.maintainers}\")\n",
        "print(f\" License: {model.license}\")\n",
        "print()\n",
        "\n",
        "print(f\" If you use this model, you are expected to cite {model.cite}\")\n",
        "print()\n",
        "print(f\" Further documentation can be found here: {model.cite}\")\n",
        "print()\n",
        "print(f\" GitHub repository: {model.git_repo}\")\n",
        "print()\n",
        "print(f\"Covers of the model '{model.name}'\")\n",
        "for cover in model.covers:\n",
        "    cover_data = imread(cover)\n",
        "    plt.figure(figsize=(3,3))\n",
        "    plt.imshow(cover_data)\n",
        "    plt.xticks([])\n",
        "    plt.yticks([])\n",
        "    plt.show()"
      ]
    },
    {
      "cell_type": "code",
      "execution_count": 8,
      "id": "579ee0e6-fb0f-4c2b-a025-6dfdc5518963",
      "metadata": {
        "colab": {
          "base_uri": "https://localhost:8080/"
        },
        "id": "579ee0e6-fb0f-4c2b-a025-6dfdc5518963",
        "outputId": "b3907dec-2ebd-4fc7-c425-00195bb13fc2",
        "tags": []
      },
      "outputs": [
        {
          "name": "stdout",
          "output_type": "stream",
          "text": [
            "Available weight formats for this model: dict_keys(['keras_hdf5', 'tensorflow_saved_model_bundle'])\n",
            "Pytorch state dict weights are locally stored at: {'keras_hdf5': KerasHdf5WeightsEntry(authors=<marshmallow.missing>, attachments=<marshmallow.missing>, parent=<marshmallow.missing>, sha256='3b351ad5af1dab75c16993f9da06ce15d84b38435b2ce6f6a799c7d5fde3b80d', source=PosixPath('/tmp/root/bioimageio_cache/https/zenodo.org/api/records/7782776/files/keras_weights.hdf5'), tensorflow_version=<Version('2.11.0')>, dependencies=<marshmallow.missing>), 'tensorflow_saved_model_bundle': TensorflowSavedModelBundleWeightsEntry(authors=<marshmallow.missing>, attachments=<marshmallow.missing>, parent=<marshmallow.missing>, sha256='4780c1df39c35db679237acedc964dc58032474495042539a16941e8cb333d17', source=PosixPath('/tmp/root/bioimageio_cache/https/zenodo.org/api/records/7782776/files/tf_weights.zip'), tensorflow_version=<Version('2.11.0')>, dependencies=<marshmallow.missing>)}\n",
            "\n",
            "The model requires 1 input(s) with the following features:\n",
            "Input with axes: ('b', 'x', 'y', 'c') and shape [1, 512, 512, 1]\n",
            "It is expected to be processed with: [Preprocessing(name='scale_range', kwargs={'axes': 'xyc', 'max_percentile': 99.8, 'min_percentile': 1, 'mode': 'per_sample'})]\n",
            "\n",
            "The model requires 1 output(s) with the following features:\n",
            "Output with axes: ('b', 'x', 'y', 'c') and shape ImplicitOutputShape(reference_tensor='input_1', scale=[1.0, 1.0, 1.0, 3.0], offset=[0.0, 0.0, 0.0, 0.0])\n",
            "The output image has a halo of : <marshmallow.missing>\n",
            "It is expected to be postprocessed with: <marshmallow.missing>\n"
          ]
        }
      ],
      "source": [
        "print(\"Available weight formats for this model:\", model.weights.keys())\n",
        "print(\"Pytorch state dict weights are locally stored at:\", model.weights)\n",
        "print()\n",
        "\n",
        "# or what inputs the model expects\n",
        "print(f\"The model requires {len(model.inputs)} input(s) with the following features:\")\n",
        "for inp in model.inputs:\n",
        "    print(\"Input with axes:\", inp.axes, \"and shape\", inp.shape)\n",
        "    print(f\"It is expected to be processed with: {inp.preprocessing}\")\n",
        "print()\n",
        "# and what the model outputs are\n",
        "print(f\"The model requires {len(model.outputs)} output(s) with the following features:\")\n",
        "for out in model.outputs:\n",
        "    print(\"Output with axes:\", out.axes, \"and shape\", out.shape)\n",
        "    print(f\"The output image has a halo of : {out.halo}\")\n",
        "    print(f\"It is expected to be postprocessed with: {out.postprocessing}\")"
      ]
    },
    {
      "cell_type": "code",
      "execution_count": 17,
      "id": "00bef6db-a11e-4bf2-bb2b-d2026df35801",
      "metadata": {
        "colab": {
          "base_uri": "https://localhost:8080/",
          "height": 332
        },
        "id": "00bef6db-a11e-4bf2-bb2b-d2026df35801",
        "outputId": "af70d853-2184-4f5d-e630-e7fef85869eb",
        "tags": []
      },
      "outputs": [
        {
          "name": "stdout",
          "output_type": "stream",
          "text": [
            "The model provides 1 test input image(s) :\n"
          ]
        },
        {
          "data": {
            "image/png": "[encoded data removed]",
            "text/plain": [
              "<Figure size 300x300 with 2 Axes>"
            ]
          },
          "metadata": {},
          "output_type": "display_data"
        },
        {
          "name": "stdout",
          "output_type": "stream",
          "text": [
            "The model provides 1 test input image(s) :\n",
            "The shape of the test input is (512, 512, 3), so it will not displayed\n"
          ]
        }
      ],
      "source": [
        "# Inspect the test input images\n",
        "print(f\"The model provides {len(model.test_inputs)} test input image(s) :\")\n",
        "for test_im in model.test_inputs:\n",
        "    test_input = np.squeeze(np.load(test_im))\n",
        "    if len(test_input.shape)>2:\n",
        "        try:\n",
        "            print(f\"The axes of the test input image are {test_input.axes} and its shape {test_input.shape}, so it will not displayed\")\n",
        "        except:\n",
        "            print(f\"The shape of the test input is {test_input.shape}, so it will not displayed\")\n",
        "    else:\n",
        "        plt.figure(figsize=(3,3))\n",
        "        plt.imshow(test_input, cmap=\"afmhot\")\n",
        "        plt.colorbar()\n",
        "        plt.xticks([])\n",
        "        plt.yticks([])\n",
        "        plt.show()\n",
        "\n",
        "\n",
        "# Inspect the test output images\n",
        "print(f\"The model provides {len(model.test_outputs)} test input image(s) :\")\n",
        "for test_im in model.test_outputs:\n",
        "    test_output = np.squeeze(np.load(test_im))\n",
        "    if len(test_output.shape)>2:\n",
        "        try:\n",
        "            print(f\"The axes of the test input image are: {test_output.axes} and its shape {test_output.shape}, so it will not displayed\")\n",
        "        except:\n",
        "            print(f\"The shape of the test input is {test_output.shape}, so it will not displayed\")\n",
        "    else:\n",
        "        plt.figure(figsize=(3,3))\n",
        "        plt.imshow(test_output, cmap=\"afmhot\")\n",
        "        plt.colorbar()\n",
        "        plt.xticks([])\n",
        "        plt.yticks([])\n",
        "        plt.show()\n"
      ]
    },
    {
      "cell_type": "markdown",
      "id": "f5df5f7c-2ce0-4230-b30f-682a6aedf84a",
      "metadata": {
        "id": "f5df5f7c-2ce0-4230-b30f-682a6aedf84a"
      },
      "source": [
        "## 3. Test the model\n",
        "\n",
        "Both the model format and the deployment of the model can be tested. First we can run a static validation to check that the model follows the format of the BioImage Model Zoo correctly.\n",
        "\n",
        "Then, we can check that it actually produces the output that is expected to produce, which is called dynamic validation. The latter is done by running a prediction for the test input images and checking that they agree with the test output(s). The running time this time will depend on the resources available (e.g., GPU acceleration)."
      ]
    },
    {
      "cell_type": "code",
      "execution_count": 18,
      "id": "c805d5e7",
      "metadata": {
        "cellView": "form",
        "colab": {
          "base_uri": "https://localhost:8080/"
        },
        "id": "c805d5e7",
        "outputId": "7fda733b-d820-4f95-954c-80273b73e3d0",
        "tags": []
      },
      "outputs": [
        {
          "name": "stderr",
          "output_type": "stream",
          "text": [
            "computing dataset statistics: 0it [00:00, ?it/s]\n"
          ]
        },
        {
          "name": "stdout",
          "output_type": "stream",
          "text": [
            "1/1 [==============================] - 8s 8s/step\n",
            "model test: load resource description\n",
            "The model passed the test.\n",
            "\n",
            "model test: has expected resource type\n",
            "The model passed the test.\n",
            "\n",
            "model test: All URLs and paths available\n",
            "The model passed the test.\n",
            "\n",
            "model test: Test documentation completeness.\n",
            "The model passed the test.\n",
            "\n",
            "model test: reproduce test outputs from test inputs (bioimageio.core 0.5.11)\n",
            "The model passed the test.\n",
            "\n",
            "The modle was tested using:\n",
            "'bioimageio_spec_version': '0.4.9post5'\n",
            "'bioimageio_core_version': '0.5.11'\n"
          ]
        }
      ],
      "source": [
        "# 'test_model' returns a dict with 'status'='passed'/'failed' and more detailed information\n",
        "\n",
        "for test_result in test_model(model):\n",
        "    if test_result[\"status\"] == \"failed\":\n",
        "        print(\"model test:\", test_result[\"name\"])\n",
        "        print(\"The model test failed with:\", test_result[\"error\"])\n",
        "        print(\"with the traceback:\")\n",
        "        print(\"\".join(test_result[\"traceback\"]))\n",
        "    else:\n",
        "        print(\"model test:\", test_result[\"name\"])\n",
        "        test_result[\"status\"] == \"passed\"\n",
        "        print(\"The model passed the test.\")\n",
        "        print()\n",
        "print(f\"The modle was tested using:\")\n",
        "print(f\"'bioimageio_spec_version': '{test_result['bioimageio_spec_version']}'\")\n",
        "print(f\"'bioimageio_core_version': '{test_result['bioimageio_core_version']}'\")"
      ]
    },
    {
      "cell_type": "markdown",
      "id": "8402e3a5-9093-45f0-8d09-1c2c8b1fdc53",
      "metadata": {
        "id": "8402e3a5-9093-45f0-8d09-1c2c8b1fdc53"
      },
      "source": [
        "## 4. Use the model with new images\n",
        "\n",
        "The BioImageIO library includes functions to run prediction with `xarray.DataArrays` or on images stored on disc."
      ]
    },
    {
      "cell_type": "markdown",
      "id": "eda17596-9fb4-41e8-aef1-e6c4eb2da579",
      "metadata": {
        "id": "eda17596-9fb4-41e8-aef1-e6c4eb2da579",
        "tags": []
      },
      "source": [
        "### **4.1. Process an input array**\n",
        "\n",
        "The prediction pipeline expects inputs as `xarray.DataArrays`, which are similar to `numpy` arrays, but allow for named dimensions (the dims keyword argument).\n",
        "In bioimage.io the dims have to agree with the input axes required by the model"
      ]
    },
    {
      "cell_type": "code",
      "execution_count": 22,
      "id": "46b37a8a-7ee2-417c-92d9-92a5372e3835",
      "metadata": {
        "colab": {
          "base_uri": "https://localhost:8080/",
          "height": 272
        },
        "id": "46b37a8a-7ee2-417c-92d9-92a5372e3835",
        "outputId": "5eb93866-ea2e-4241-802b-543e98fc6de5",
        "tags": []
      },
      "outputs": [
        {
          "name": "stderr",
          "output_type": "stream",
          "text": [
            "computing dataset statistics: 0it [00:00, ?it/s]\n"
          ]
        },
        {
          "name": "stdout",
          "output_type": "stream",
          "text": [
            "1/1 [==============================] - 6s 6s/step\n"
          ]
        },
        {
          "data": {
            "image/png": "[encoded data removed]",
            "text/plain": [
              "<Figure size 500x500 with 2 Axes>"
            ]
          },
          "metadata": {},
          "output_type": "display_data"
        }
      ],
      "source": [
        "# load the example image for this model, which is stored in numpy file format\n",
        "input_image = np.load(model.test_inputs[0])\n",
        "\n",
        "# \"devices\" can be used to run prediction on a gpu instead of the cpu\n",
        "devices = None\n",
        "# \"weight_format\" to specify which weight format to use in case the model contains different weight formats\n",
        "weight_format = None\n",
        "# the prediction pipeline combines preprocessing, prediction and postprocessing.\n",
        "# it should always be used for prediction with a bioimageio model\n",
        "pred_pipeline = create_prediction_pipeline(\n",
        "    bioimageio_model=model, devices=devices, weight_format=weight_format\n",
        ")\n",
        "# the prediction pipeline expects inputs as xarray.DataArrays.\n",
        "axes = tuple(model.inputs[0].axes)\n",
        "input_tensor = xr.DataArray(input_image, dims=axes)\n",
        "\n",
        "# the prediction pipeline call expects the same number of inputs as the number of inputs required by the model\n",
        "# in the case here, the model just expects a single input. in the case of multiple inputs use\n",
        "# prediction = pred_pipeline(input1, input2, ...)\n",
        "# or, if you have the inputs in a list or tuple\n",
        "# prediction = pred_pipeline(*inputs)\n",
        "# the call returns a list of output tensors, corresponding to the output tensors of the model\n",
        "# (in this case, we just have a single output)\n",
        "prediction = pred_pipeline(input_tensor)\n",
        "\n",
        "plt.figure(figsize=(5,5))\n",
        "plt.subplot(1,2,1)\n",
        "plt.imshow(np.squeeze(input_image), cmap=\"afmhot\")\n",
        "plt.axis('off')\n",
        "plt.title(\"Input image to process\")\n",
        "plt.subplot(1,2,2)\n",
        "plt.imshow(np.squeeze(prediction), cmap=\"afmhot\")\n",
        "plt.axis('off')\n",
        "plt.title(\"Processed image\")\n",
        "plt.show()\n"
      ]
    },
    {
      "cell_type": "markdown",
      "id": "43854569-1e3a-443c-9e5e-fc2b97f26480",
      "metadata": {
        "cellView": "form",
        "id": "43854569-1e3a-443c-9e5e-fc2b97f26480",
        "tags": []
      },
      "source": [
        "### **4.2 Process an image from a directory and save the result**\n",
        "\n",
        "The BioImageIO is equipped with the utility function `predict_image` to run prediction with an image stored on disc. The filepath where the output should be stored (`save_outputs`), supports most common image formats as well as `npy` fileformat."
      ]
    },
    {
      "cell_type": "code",
      "execution_count": 23,
      "id": "40230c43-711e-43b0-b816-c7c5640a36f1",
      "metadata": {
        "colab": {
          "base_uri": "https://localhost:8080/",
          "height": 272
        },
        "id": "40230c43-711e-43b0-b816-c7c5640a36f1",
        "outputId": "0af7181d-c2c1-49f2-ecf5-9c881c80d522",
        "tags": []
      },
      "outputs": [
        {
          "name": "stderr",
          "output_type": "stream",
          "text": [
            "computing dataset statistics: 0it [00:00, ?it/s]\n"
          ]
        },
        {
          "name": "stdout",
          "output_type": "stream",
          "text": [
            "1/1 [==============================] - 6s 6s/step\n"
          ]
        },
        {
          "data": {
            "image/png": "[encoded data removed]",
            "text/plain": [
              "<Figure size 500x500 with 2 Axes>"
            ]
          },
          "metadata": {},
          "output_type": "display_data"
        }
      ],
      "source": [
        "# path + name of the stored output\n",
        "save_outputs = \"/home/prediction.tif\"  # @param {type:\"string\"}\n",
        "save_outputs = [save_outputs]\n",
        "path2image = model.test_inputs\n",
        "\n",
        "# model resource, the image that will be process, path to store the output\n",
        "predict_image(model, path2image, save_outputs)\n",
        "\n",
        "# the output tensor contains 2 channels, which is not supported by normal tif.\n",
        "# thus, these 2 channels are stored as 2 separate images\n",
        "\n",
        "fg_pred = imread(save_outputs[0])\n",
        "input_image = np.load(model.test_inputs[0])\n",
        "\n",
        "plt.figure(figsize=(5,5))\n",
        "plt.subplot(1,2,1)\n",
        "plt.imshow(np.squeeze(input_image), cmap=\"afmhot\")\n",
        "plt.axis('off')\n",
        "plt.title(\"Input image to process\")\n",
        "plt.subplot(1,2,2)\n",
        "plt.imshow(fg_pred, cmap=\"afmhot\")\n",
        "plt.axis('off')\n",
        "plt.title(\"Processed image\")\n",
        "plt.show()\n"
      ]
    },
    {
      "cell_type": "markdown",
      "id": "e2c9cf63-56e6-4f15-9ae6-bfdc5f99620f",
      "metadata": {
        "id": "e2c9cf63-56e6-4f15-9ae6-bfdc5f99620f",
        "jp-MarkdownHeadingCollapsed": true,
        "tags": []
      },
      "source": [
        "### **4.3 Process a set of images stored in a directory**\n",
        "It is possible to provide a list of images to analyse and run the analysis automatically. In this analysis `padding` and `tiling` strategies are enabled."
      ]
    },
    {
      "cell_type": "code",
      "execution_count": 48,
      "id": "774b95c7-3ab5-4c58-a6c9-d07179caf036",
      "metadata": {
        "colab": {
          "base_uri": "https://localhost:8080/"
        },
        "id": "774b95c7-3ab5-4c58-a6c9-d07179caf036",
        "outputId": "5cd0b852-775f-4b8a-ee2c-7bc6703cd2f4",
        "tags": []
      },
      "outputs": [
        {
          "name": "stdout",
          "output_type": "stream",
          "text": [
            "10 images for prediction were found\n"
          ]
        },
        {
          "name": "stderr",
          "output_type": "stream",
          "text": [
            "computing dataset statistics: 0it [00:00, ?it/s]\n"
          ]
        },
        {
          "name": "stdout",
          "output_type": "stream",
          "text": [
            "1/1 [==============================] - 7s 7s/step\n",
            "1/1 [==============================] - 8s 8s/step\n",
            "1/1 [==============================] - 6s 6s/step\n",
            "1/1 [==============================] - 8s 8s/step\n",
            "1/1 [==============================] - 6s 6s/step\n",
            "1/1 [==============================] - 8s 8s/step\n",
            "1/1 [==============================] - 6s 6s/step\n",
            "1/1 [==============================] - 9s 9s/step\n",
            "1/1 [==============================] - 7s 7s/step\n",
            "1/1 [==============================] - 8s 8s/step\n"
          ]
        }
      ],
      "source": [
        "# Indicate a directory with images to analyse and a directory to save the images\n",
        "im_dir = \"\" # @param {type:\"string\"}\n",
        "results_dir = \"\" # @param {type:\"string\"}\n",
        "os.makedirs(results_dir, exist_ok=True)\n",
        "\n",
        "# Get the list of images to analyse and the same list to save the images\n",
        "inputs = [os.path.join(im_dir,f) for f in os.listdir(im_dir) if not f.startswith('.')]\n",
        "outputs = [os.path.join(results_dir, os.path.split(inp)[1]) for inp in inputs]\n",
        "\n",
        "print(len(inputs), \"images for prediction were found\")\n",
        "\n",
        "predict_images(model, inputs, outputs, verbose=False)\n"
      ]
    },
    {
      "cell_type": "code",
      "execution_count": 50,
      "id": "c655f09b-f04a-4def-9b1e-fa98c25faa2b",
      "metadata": {
        "colab": {
          "base_uri": "https://localhost:8080/"
        },
        "id": "c655f09b-f04a-4def-9b1e-fa98c25faa2b",
        "outputId": "fcf50b20-5e93-48a9-ee63-d02aba814a4d"
      },
      "outputs": [
        {
          "name": "stderr",
          "output_type": "stream",
          "text": [
            "computing dataset statistics: 0it [00:00, ?it/s]\n"
          ]
        },
        {
          "name": "stdout",
          "output_type": "stream",
          "text": [
            "1/1 [==============================] - 7s 7s/step\n",
            "1/1 [==============================] - 8s 8s/step\n",
            "1/1 [==============================] - 7s 7s/step\n",
            "1/1 [==============================] - 6s 6s/step\n",
            "1/1 [==============================] - 6s 6s/step\n",
            "1/1 [==============================] - 7s 7s/step\n",
            "1/1 [==============================] - 8s 8s/step\n",
            "1/1 [==============================] - 6s 6s/step\n",
            "1/1 [==============================] - 6s 6s/step\n",
            "1/1 [==============================] - 7s 7s/step\n"
          ]
        }
      ],
      "source": [
        "# If the images are too big we can even choose a padding.\n",
        "padding = {\"x\": 16, \"y\": 16, \"mode\": \"dynamic\"}\n",
        "predict_images(model, inputs, outputs, padding=padding, verbose=False)"
      ]
    },
    {
      "cell_type": "code",
      "execution_count": 54,
      "id": "343e5f1d-db1a-4d1c-842b-bd77ed7f7fb0",
      "metadata": {
        "colab": {
          "base_uri": "https://localhost:8080/"
        },
        "id": "343e5f1d-db1a-4d1c-842b-bd77ed7f7fb0",
        "outputId": "2c8b2968-3adf-4d57-ce8c-6ab9bc2f2081"
      },
      "outputs": [
        {
          "name": "stderr",
          "output_type": "stream",
          "text": [
            "computing dataset statistics: 0it [00:00, ?it/s]\n"
          ]
        },
        {
          "name": "stdout",
          "output_type": "stream",
          "text": [
            "1/1 [==============================] - 8s 8s/step\n",
            "1/1 [==============================] - 6s 6s/step\n",
            "1/1 [==============================] - 8s 8s/step\n",
            "1/1 [==============================] - 8s 8s/step\n",
            "1/1 [==============================] - 6s 6s/step\n",
            "1/1 [==============================] - 8s 8s/step\n",
            "1/1 [==============================] - 6s 6s/step\n",
            "1/1 [==============================] - 8s 8s/step\n",
            "1/1 [==============================] - 6s 6s/step\n",
            "1/1 [==============================] - 7s 7s/step\n",
            "1/1 [==============================] - 8s 8s/step\n",
            "1/1 [==============================] - 6s 6s/step\n",
            "1/1 [==============================] - 6s 6s/step\n",
            "1/1 [==============================] - 6s 6s/step\n",
            "1/1 [==============================] - 8s 8s/step\n",
            "1/1 [==============================] - 6s 6s/step\n",
            "1/1 [==============================] - 8s 8s/step\n",
            "1/1 [==============================] - 8s 8s/step\n",
            "1/1 [==============================] - 6s 6s/step\n",
            "1/1 [==============================] - 8s 8s/step\n",
            "1/1 [==============================] - 6s 6s/step\n",
            "1/1 [==============================] - 6s 6s/step\n",
            "1/1 [==============================] - 7s 7s/step\n",
            "1/1 [==============================] - 7s 7s/step\n",
            "1/1 [==============================] - 6s 6s/step\n",
            "1/1 [==============================] - 6s 6s/step\n",
            "1/1 [==============================] - 7s 7s/step\n",
            "1/1 [==============================] - 8s 8s/step\n",
            "1/1 [==============================] - 6s 6s/step\n",
            "1/1 [==============================] - 7s 7s/step\n",
            "1/1 [==============================] - 8s 8s/step\n",
            "1/1 [==============================] - 6s 6s/step\n",
            "1/1 [==============================] - 8s 8s/step\n",
            "1/1 [==============================] - 7s 7s/step\n",
            "1/1 [==============================] - 6s 6s/step\n",
            "1/1 [==============================] - 6s 6s/step\n",
            "1/1 [==============================] - 8s 8s/step\n",
            "1/1 [==============================] - 6s 6s/step\n",
            "1/1 [==============================] - 8s 8s/step\n",
            "1/1 [==============================] - 6s 6s/step\n"
          ]
        }
      ],
      "source": [
        "# instead of padding, we can also use tiling.\n",
        "# here, we specify a tile size of 512 and a halo (= extension of tile on both sides)\n",
        "# size of 16, which results in an effective tile shale of 544 = 512 + 2*16\n",
        "tiling = {\n",
        "    \"tile\": {\"x\": 512, \"y\": 512},\n",
        "    \"halo\": {\"x\": 16, \"y\": 16},\n",
        "}\n",
        "\n",
        "predict_images(model, inputs, outputs, tiling=tiling, verbose=False)"
      ]
    },
    {
      "cell_type": "markdown",
      "id": "d56d6ebf",
      "metadata": {
        "id": "d56d6ebf"
      },
      "source": [
        "## 5. Create a BioImage Model Zoo model\n",
        "\n",
        "Let's recreate a model based on parts of the loaded model description from above!\n",
        "\n",
        "`bioimageio.core` also implements functionality to create a model package compatible with the [BioImnageIO Model Spec](https://bioimage.io/docs/#/bioimageio_model_spec) ready to be shared via the [Bioimage Model Zoo](https://bioimage.io/#/).\n",
        "Here, we will use this functionality to create two models, one that adds thresholding as post-processing to the outputs and another one that also adds weights in torchscript format.\n",
        "\n",
        "For this we are using thre previous model including some changes as new postprocessing pipelines."
      ]
    },
    {
      "cell_type": "code",
      "execution_count": null,
      "id": "45b01287",
      "metadata": {
        "cellView": "form",
        "id": "45b01287",
        "tags": []
      },
      "outputs": [],
      "source": [
        "## TODO\n",
        "# ------\n"
      ]
    }
  ],
  "metadata": {
    "colab": {
      "provenance": []
    },
    "kernelspec": {
      "display_name": "Python 3 (ipykernel)",
      "language": "python",
      "name": "python3"
    },
    "language_info": {
      "codemirror_mode": {
        "name": "ipython",
        "version": 3
      },
      "file_extension": ".py",
      "mimetype": "text/x-python",
      "name": "python",
      "nbconvert_exporter": "python",
      "pygments_lexer": "ipython3",
      "version": "3.9.7"
    }
  },
  "nbformat": 4,
  "nbformat_minor": 5
}
