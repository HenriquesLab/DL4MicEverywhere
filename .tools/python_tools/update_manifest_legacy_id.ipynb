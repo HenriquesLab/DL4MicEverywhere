{
 "cells": [
  {
   "cell_type": "markdown",
   "metadata": {},
   "source": [
    "## Update ID in DL4MicEverywhere configuration.yaml"
   ]
  },
  {
   "cell_type": "code",
   "execution_count": null,
   "metadata": {},
   "outputs": [],
   "source": [
    "from os import walk\n",
    "from pathlib import Path\n",
    "from ruyaml import YAML\n",
    "from bioimageio.core import load_description\n",
    "\n",
    "ZC_config_path = '../../notebooks/ZeroCostDL4Mic_notebooks'\n",
    "\n",
    "for (dirpath, dirnames, filenames) in walk(ZC_config_path):\n",
    "    for file in filenames:\n",
    "        if file.endswith('.yaml'):\n",
    "            with open(Path(dirpath) / file, 'r', encoding='utf8') as f:\n",
    "                yaml = YAML()\n",
    "                yaml.preserve_quotes = True\n",
    "                config = yaml.load(f)\n",
    "            try:\n",
    "                bmz_rdf = load_description( 'zero/' + config['id'])\n",
    "                bmz_id = bmz_rdf.config['bioimageio']['nickname']\n",
    "                config['id'] = bmz_id\n",
    "            except:\n",
    "                print('Could not find the bioimage.io id for the notebook: ' + config['id'])\n",
    "\n",
    "            if 'links' in config:\n",
    "                links=[]\n",
    "                for link in config['links']:\n",
    "                    if link == 'Notebook Preview':\n",
    "                        continue\n",
    "                    link_rdf = load_description( 'zero/' + link )\n",
    "                    link_bmz_id = link_rdf.config['bioimageio']['nickname']\n",
    "                    links.append(link_bmz_id)\n",
    "                config['links'] = links\n",
    "\n",
    "\n",
    "            with open(Path(dirpath) / file, 'w', encoding='utf8') as f:\n",
    "                yaml = YAML()\n",
    "                yaml.preserve_quotes = True\n",
    "                yaml.default_flow_style = False\n",
    "                yaml.indent(mapping=2, sequence=4, offset=2)\n",
    "                yaml.width = 10e10\n",
    "                yaml.dump(config, f)\n",
    "\n",
    "            "
   ]
  },
  {
   "cell_type": "code",
   "execution_count": null,
   "metadata": {},
   "outputs": [],
   "source": []
  }
 ],
 "metadata": {
  "kernelspec": {
   "display_name": "zc_manifest_update",
   "language": "python",
   "name": "python3"
  },
  "language_info": {
   "codemirror_mode": {
    "name": "ipython",
    "version": 3
   },
   "file_extension": ".py",
   "mimetype": "text/x-python",
   "name": "python",
   "nbconvert_exporter": "python",
   "pygments_lexer": "ipython3",
   "version": "3.13.2"
  }
 },
 "nbformat": 4,
 "nbformat_minor": 2
}
